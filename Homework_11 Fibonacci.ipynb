{
 "cells": [
  {
   "cell_type": "markdown",
   "metadata": {},
   "source": [
    "# Работа с числами\n",
    "## Послдовательность Фибоначчи\n",
    "\n",
    "The Fibonacci-sequence has not only been known to mathematicians for millennia but is found in quite different aspects of nature, for example in the petals of flowers, population laws, and the golden ratio. The sequence is defined by a recursive law. \n",
    "\n",
    "The first two elements are 1 (f1=f2=1). All following elements (i >= 3) are defined by fi = fi-1 + fi-2. In words: the next element of the sequence is the sum of the two predecessors. \n",
    "\n",
    "The first ten elements of the sequence are therefore 1, 1, 2, 3, 5, 8, 13, 21, 34, 55. This recursive definition requires the computation of the n-th element of the sequence to calculate all predecessors. In this chapter, we will talk about different methods of implementation. We start at the beginning of the sequence, generate the first elements, and use them to progress further. A very simple implementation could look like this:"
   ]
  },
  {
   "cell_type": "code",
   "execution_count": 2,
   "metadata": {},
   "outputs": [
    {
     "name": "stdout",
     "output_type": "stream",
     "text": [
      "1\n",
      "1\n",
      "2\n",
      "3\n"
     ]
    }
   ],
   "source": [
    "# Prints first n Fibonacci numbers\n",
    "def fibonacci(n): \n",
    "    assert n > 0 \n",
    "    a, b = 1, 1\n",
    "    for i in range(n): \n",
    "        print(a)\n",
    "        a, b = b, a + b\n",
    "        \n",
    "fibonacci(4)"
   ]
  },
  {
   "cell_type": "code",
   "execution_count": 3,
   "metadata": {
    "collapsed": true
   },
   "outputs": [],
   "source": [
    "# Saves numbers into list\n",
    "def fibonacci2(n):\n",
    "    elements = [1, 1]\n",
    "    for i in range(n):\n",
    "        elements.append(elements[-1] + elements[-2])\n",
    "    return elements [:-2]"
   ]
  },
  {
   "cell_type": "code",
   "execution_count": 4,
   "metadata": {},
   "outputs": [
    {
     "name": "stdout",
     "output_type": "stream",
     "text": [
      "1\n",
      "1\n",
      "2\n",
      "3\n"
     ]
    }
   ],
   "source": [
    "fibonacci(4)"
   ]
  },
  {
   "cell_type": "markdown",
   "metadata": {},
   "source": [
    "# Домашнее задание\n"
   ]
  },
  {
   "cell_type": "markdown",
   "metadata": {},
   "source": [
    "Дедлайн: __29 января 2023 года, 23.59__\n",
    "\n",
    "Задание оценивается в 10 баллов. \n",
    "\n",
    "Штрафы за опоздание: 1 час задержки - минус 1 балл.\n",
    "\n",
    "Если будет замечен плагиат - 0 баллов каждому участнику совместной работы."
   ]
  },
  {
   "cell_type": "markdown",
   "metadata": {},
   "source": [
    "## Задание 1. Фибоначчи\n"
   ]
  },
  {
   "cell_type": "markdown",
   "metadata": {},
   "source": [
    "1.Написать функцию, генерирующую 5000 чисел Фибоначчи и вернуть результат в виде списка. Вывести 1000-е число. \n",
    "\n",
    "(1 балл)"
   ]
  },
  {
   "cell_type": "code",
   "execution_count": null,
   "metadata": {
    "collapsed": true
   },
   "outputs": [],
   "source": [
    "import math\n",
    "\n",
    "a = int(input('Enter N Number: '))\n",
    "l = int(input('Enter sequence member number: '))\n",
    "\n",
    "def nfib(n):\n",
    "    a = b = 1\n",
    "    for i in range(n):\n",
    "        yield a\n",
    "        a, b = b, a + b\n",
    "\n",
    "print(list(nfib(a)))\n",
    "m = list(nfib(a))\n",
    "print(m[l-1])\n"
   ]
  },
  {
   "cell_type": "markdown",
   "metadata": {},
   "source": [
    "2.Написать функцию, вычисляющую число Фибоначчи по формуле Муавра-Бине и возвращающую результат в виде списка:\n",
    "\n",
    "$\\large f_i = \\frac{1}{\\sqrt {5}} \\Biggl (   (\\frac{1+\\sqrt{5}}{2})^i - (\\frac{1-\\sqrt{5}}{2})^i \\Biggr ) $\n",
    "\n",
    "Найти 1000-е число Фибоначчи и сравнить его с числом, полученным в пунке 1. Что вы заметили? Что изменилось? (написать словами)\n",
    "\n",
    "(1 балл)"
   ]
  },
  {
   "cell_type": "code",
   "execution_count": null,
   "metadata": {
    "collapsed": true
   },
   "outputs": [],
   "source": [
    "import math\n",
    "\n",
    "a = int(input('Enter sequence member number: '))\n",
    "f = float\n",
    "r = float\n",
    "\n",
    "def nfib1(i):\n",
    "        r = math.sqrt(5)\n",
    "        f =(((1 + r )  / 2)**i + ((1 - r) / 2)**i) / r\n",
    "        return round(f)\n",
    "    \n",
    "\n",
    "print(nfib1(a-1))\n",
    "\n",
    "def nfib(n):\n",
    "    list = []\n",
    "    for i in range(n):\n",
    "        r = math.sqrt(5)\n",
    "        f =(((1 + r )  / 2)**i + ((1 - r) / 2)**i) / r\n",
    "        list.append(round(f))\n",
    "    return list\n",
    "\n",
    "print(nfib(a))\n",
    "\n",
    "\n",
    "\n",
    "\n",
    "#Число, вычесленное по формуле Муавра-Бине, дробное, в то время как в 1й задаче получили целое число, но тут я использую round чтобы выводились округлённые числа"
   ]
  },
  {
   "cell_type": "markdown",
   "metadata": {},
   "source": [
    "3.Сравните производительность рассчета первых 1000 чисел Фибоначчи с использованием разных функций (пункт 1 и пунтк 2). Используйте time.time() или time.monotonic() из модуля time, чтобы измерить время работы функций.\n",
    "\n",
    "(1 балл)"
   ]
  },
  {
   "cell_type": "code",
   "execution_count": null,
   "metadata": {
    "collapsed": true
   },
   "outputs": [],
   "source": [
    "#1)СЛУЧАЙ\n",
    "import math\n",
    "import time\n",
    "\n",
    "a = int(input('Enter N Number: '))\n",
    "\n",
    "t_start = time.monotonic()\n",
    "print(t_start)\n",
    "\n",
    "def nfib(n):\n",
    "    a = b = 1\n",
    "    for i in range(n):\n",
    "        yield a\n",
    "        a, b = b, a + b\n",
    "\n",
    "print(list(nfib(a)))\n",
    "\n",
    "t_stop = time.monotonic()\n",
    "print(t_stop)\n",
    "t_run = t_stop - t_start\n",
    "print(t_run)\n",
    "\n",
    "#Время работы функции составляет около 1.2 секунд, что быстрее чем во втором случае с округлением, но в разы медленнее чем во втором случае без округления\n",
    "\n",
    "\n",
    "#2)СЛУЧАЙ\n",
    "import math\n",
    "import time\n",
    "a = int(input('Enter sequence member number: '))\n",
    "f = float\n",
    "r = float\n",
    "\n",
    "t_start = time.monotonic()\n",
    "print(t_start)\n",
    "\n",
    "def nfib(n):\n",
    "    list = []\n",
    "    for i in range(n):\n",
    "        r = math.sqrt(5)\n",
    "        f =(((1 + r )  / 2)**i + ((1 - r) / 2)**i) / r\n",
    "        list.append(round(f))\n",
    "    return list\n",
    "\n",
    "print(nfib(a))\n",
    "\n",
    "\n",
    "t_stop = time.monotonic()\n",
    "print(t_stop)\n",
    "t_run = t_stop - t_start\n",
    "print(t_run)\n",
    "#время работы функции примерно равно 1.2с когда присуствует округление чисел. Если же убрать округление вычисления производятся в 10 раз быстрее примерно за 0,1- 0,2 секунды"
   ]
  },
  {
   "cell_type": "markdown",
   "metadata": {},
   "source": [
    "6.Напишите рекурсивную функцию вычисления n-го числа Фибоначчи. \n",
    "\n",
    "(1 балл)"
   ]
  },
  {
   "cell_type": "code",
   "execution_count": null,
   "metadata": {
    "collapsed": true
   },
   "outputs": [],
   "source": [
    "import math\n",
    "\n",
    "a = int(input('Enter N Number: '))\n",
    "\n",
    "def recursiveFib(n):\n",
    "    if n == 1 or n == 2:\n",
    "        return 1\n",
    "    return recursiveFib(n - 1) + recursiveFib(n - 2)\n",
    "\n",
    "    \n",
    "print(recursiveFib(a-1))"
   ]
  },
  {
   "cell_type": "markdown",
   "metadata": {},
   "source": [
    "7.Реализовать визуализацию фрактальной спирали Фибоначчи (2 балла)."
   ]
  },
  {
   "cell_type": "code",
   "execution_count": null,
   "metadata": {
    "collapsed": true
   },
   "outputs": [],
   "source": [
    "import turtle\n",
    "import math\n",
    "\n",
    "def fiboPlot(n):\n",
    "    a = 0\n",
    "    b = 1\n",
    "    square_a = a\n",
    "    square_b = b\n",
    "    # Установка цвета черчения пера на синий\n",
    "    x.pencolor(\"blue\")\n",
    "\n",
    "    # Рисуем первый квадрат\n",
    "\n",
    "    x.forward(b * factor)\n",
    "\n",
    "    x.left(90)\n",
    "\n",
    "    x.forward(b * factor)\n",
    "\n",
    "    x.left(90)\n",
    "\n",
    "    x.forward(b * factor)\n",
    "\n",
    "    x.left(90)\n",
    "\n",
    "    x.forward(b * factor)\n",
    "\n",
    "    # Продолжение в серии Фибоначчи\n",
    "\n",
    "    temp = square_b\n",
    "\n",
    "    square_b = square_b + square_a\n",
    "\n",
    "    square_a = temp\n",
    "\n",
    "    # Рисуем оставшиеся квадраты\n",
    "\n",
    "    for i in range(1, n):\n",
    "\n",
    "        x.backward(square_a * factor)\n",
    "\n",
    "        x.right(90)\n",
    "\n",
    "        x.forward(square_b * factor)\n",
    "\n",
    "        x.left(90)\n",
    "\n",
    "        x.forward(square_b * factor)\n",
    "\n",
    "        x.left(90)\n",
    "\n",
    "        x.forward(square_b * factor)\n",
    "        # Продолжение в серии Фибоначчи\n",
    "\n",
    "        temp = square_b\n",
    "\n",
    "        square_b = square_b + square_a\n",
    "\n",
    "        square_a = temp\n",
    "\n",
    "    # Приведение пера в начальную точку спирального графика\n",
    "\n",
    "    x.penup()\n",
    "\n",
    "    x.setposition(factor, 0)\n",
    "\n",
    "    x.seth(0)\n",
    "\n",
    "    x.pendown()\n",
    "\n",
    "    # Установка цвета перо для черчения на красный\n",
    "\n",
    "    x.pencolor(\"red\")\n",
    "\n",
    "    Спиральный график Фибоначчи\n",
    "\n",
    "    x.left(90)\n",
    "\n",
    "    for i in range(n):\n",
    "\n",
    "        print(b)\n",
    "\n",
    "        fdwd = math.pi * b * factor / 2\n",
    "\n",
    "        fdwd /= 90\n",
    "\n",
    "        for j in range(90):\n",
    "\n",
    "            x.forward(fdwd)\n",
    "\n",
    "            x.left(1)\n",
    "\n",
    "        temp = a\n",
    "\n",
    "        a = b\n",
    "\n",
    "        b = temp + b\n",
    "\n",
    "  \n",
    "# Здесь «фактор» означает мультипликативный\n",
    "# фактор, который увеличивает или уменьшает масштаб\n",
    "# сюжет по определенному фактору.\n",
    "\n",
    "factor = 1\n",
    "\n",
    "# Принимая Ввод для числа\n",
    "# Итерации нашего алгоритма\n",
    "\n",
    "n = int(input('Enter the number of iterations (must be > 1): '))\n",
    "\n",
    "# Построение спирального фрактала Фибоначчи\n",
    "# и печать соответствующего числа Фибоначчи\n",
    "\n",
    "if n > 0:\n",
    "\n",
    "    print(\"Fibonacci series for\", n, \"elements :\")\n",
    "\n",
    "    x = turtle.Turtle()\n",
    "\n",
    "    x.speed(100)\n",
    "\n",
    "    fiboPlot(n)\n",
    "\n",
    "    turtle.done()\n",
    "\n",
    "else:\n",
    "\n",
    "    print(\"Number of iterations must be > 0\")"
   ]
  }
 ],
 "metadata": {
  "kernelspec": {
   "display_name": "Python 3.11.0 64-bit",
   "language": "python",
   "name": "python3"
  },
  "language_info": {
   "codemirror_mode": {
    "name": "ipython",
    "version": 2
   },
   "file_extension": ".py",
   "mimetype": "text/x-python",
   "name": "python",
   "nbconvert_exporter": "python",
   "pygments_lexer": "ipython2",
   "version": "3.11.0"
  },
  "vscode": {
   "interpreter": {
    "hash": "5238573367df39f7286bb46f9ff5f08f63a01a80960060ce41e3c79b190280fa"
   }
  }
 },
 "nbformat": 4,
 "nbformat_minor": 2
}
