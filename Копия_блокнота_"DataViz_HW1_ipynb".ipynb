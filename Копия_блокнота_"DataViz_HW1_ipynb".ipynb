{
  "cells": [
    {
      "cell_type": "markdown",
      "metadata": {
        "id": "view-in-github",
        "colab_type": "text"
      },
      "source": [
        "<a href=\"https://colab.research.google.com/github/PolinaSpesivtseva/Python_Visualisation/blob/main/%D0%9A%D0%BE%D0%BF%D0%B8%D1%8F_%D0%B1%D0%BB%D0%BE%D0%BA%D0%BD%D0%BE%D1%82%D0%B0_%22DataViz_HW1_ipynb%22.ipynb\" target=\"_parent\"><img src=\"https://colab.research.google.com/assets/colab-badge.svg\" alt=\"Open In Colab\"/></a>"
      ]
    },
    {
      "cell_type": "code",
      "execution_count": null,
      "metadata": {
        "id": "0V-d_0Kx4HOm"
      },
      "outputs": [],
      "source": [
        "%matplotlib inline\n",
        "from IPython.display import display, HTML"
      ]
    },
    {
      "cell_type": "markdown",
      "metadata": {
        "id": "TuCVH8Jb4HOo"
      },
      "source": [
        "\n",
        "# Анимация при помощи `matplotlib`\n",
        "\n",
        "Matplotlib позволяет создавать анимации при помощи модуля `matplotlib.animation`. Анимация является последовательностью кадров, где каждый кадр соответствует графику на `matplotlib.figure.Figure`. \n",
        "\n",
        "В рамках данного домашнего задания вы научитесь создавать анимации стандартного графика.\n"
      ]
    },
    {
      "cell_type": "code",
      "execution_count": null,
      "metadata": {
        "id": "61O5AVd84HOq"
      },
      "outputs": [],
      "source": [
        "import matplotlib.pyplot as plt\n",
        "import matplotlib.animation as animation\n",
        "import numpy as np"
      ]
    },
    {
      "cell_type": "markdown",
      "metadata": {
        "id": "-ELrrH0i4HOq"
      },
      "source": [
        "## Классы для анимации\n",
        "\n",
        "В `matplotlib` есть два способа анимации:\n",
        "\n",
        "- `matplotlib.animation.FuncAnimation`: Создаем данные для первого кадра и меняем их для каждого кадра анимации.\n",
        "\n",
        "- `matplotlib.animation.ArtistAnimation`: Создаем список артистов, которые отрисовывают каждый кадр анимации.\n",
        "\n",
        "`matplotlib.animation.FuncAnimation` эффективнее по памяти и скорости, так как рисует артиста один раз и модифицирует его.\n",
        "\n",
        "С другой стороны `matplotlib.animation.ArtistAnimation` более гибкий, так как позволяет последовательность любых артистов."
      ]
    },
    {
      "cell_type": "markdown",
      "source": [
        "# Задание\n",
        "\n",
        "Вам потребуется анимировать график высоты полета шара от времени для двух разных начальных условий: с начальной скоростью 5 и 12 м/с\n",
        "\n",
        "Используйте различные стили для двух графиков (не только цвет).\n",
        "\n",
        "$$z(t) = \\frac{g t^2}{2} + V_0 t$$"
      ],
      "metadata": {
        "id": "ANTrS2aFWv0o"
      }
    },
    {
      "cell_type": "markdown",
      "source": [
        "Ячейка ниже содержит заготовку для вашего решения\n",
        "\n",
        "От вас требуется:\n",
        "\n",
        "1. Дописать функцию `height`\n",
        "2. Заполнить `z1` и `z2`, передав соответсвующие аргументы в функцию `height`\n",
        "3. Создать две линии (`plt.plot`), передав в них начальные точки (0, 0) из массивов времени и высот\n",
        "4. Добавить подписи и ограничить оси через `ax.set` (почитайте [документацию](https://matplotlib.org/stable/api/_as_gen/matplotlib.axes.Axes.set.html) и обратите внимание на аргументы, содержащие lim и label)\n",
        "5. Дописать функцию `update`: она принимает номер кадра и обновляет данные на графиках `line1` и `line2` при помощи методов `set_xdata` для оси времени и `set_ydata` для высоты. (используйте срез `:frame`)"
      ],
      "metadata": {
        "id": "5eTSoStkazX3"
      }
    },
    {
      "cell_type": "code",
      "source": [
        "def height(t: np.ndarray,\n",
        "          V0: float,\n",
        "          g: float = -9.81) -> np.ndarray:\n",
        "    \"\"\" Высота полета шара в моменты времени t при начальной скорости V0\n",
        "    Args:\n",
        "          t: моменты времени, в которые считаем\n",
        "          V0: начальная скорость\n",
        "          g: ускорение свободного падения\n",
        "      \n",
        "      Returns:\n",
        "          - Высота в моменты времени t\n",
        "    \"\"\"\n",
        "    z = (g*t*t)/2 + V0*t\n",
        "    return z"
      ],
      "metadata": {
        "id": "uqDzn-DXWu_8"
      },
      "execution_count": null,
      "outputs": []
    },
    {
      "cell_type": "code",
      "execution_count": null,
      "metadata": {
        "colab": {
          "base_uri": "https://localhost:8080/",
          "height": 576
        },
        "id": "GN_gUMwS4HOs",
        "outputId": "f3a57622-d5ba-4ad2-c4c0-12a891f1d1f7"
      },
      "outputs": [
        {
          "output_type": "display_data",
          "data": {
            "text/plain": [
              "<IPython.core.display.HTML object>"
            ],
            "text/html": [
              "<video width=\"432\" height=\"288\" controls autoplay loop>\n",
              "  <source type=\"video/mp4\" src=\"data:video/mp4;base64,AAAAHGZ0eXBNNFYgAAACAGlzb21pc28yYXZjMQAAAAhmcmVlAAAjW21kYXQAAAKuBgX//6rcRem9\n",
              "5tlIt5Ys2CDZI+7veDI2NCAtIGNvcmUgMTU1IHIyOTE3IDBhODRkOTggLSBILjI2NC9NUEVHLTQg\n",
              "QVZDIGNvZGVjIC0gQ29weWxlZnQgMjAwMy0yMDE4IC0gaHR0cDovL3d3dy52aWRlb2xhbi5vcmcv\n",
              "eDI2NC5odG1sIC0gb3B0aW9uczogY2FiYWM9MSByZWY9MyBkZWJsb2NrPTE6MDowIGFuYWx5c2U9\n",
              "MHgzOjB4MTEzIG1lPWhleCBzdWJtZT03IHBzeT0xIHBzeV9yZD0xLjAwOjAuMDAgbWl4ZWRfcmVm\n",
              "PTEgbWVfcmFuZ2U9MTYgY2hyb21hX21lPTEgdHJlbGxpcz0xIDh4OGRjdD0xIGNxbT0wIGRlYWR6\n",
              "b25lPTIxLDExIGZhc3RfcHNraXA9MSBjaHJvbWFfcXBfb2Zmc2V0PS0yIHRocmVhZHM9MyBsb29r\n",
              "YWhlYWRfdGhyZWFkcz0xIHNsaWNlZF90aHJlYWRzPTAgbnI9MCBkZWNpbWF0ZT0xIGludGVybGFj\n",
              "ZWQ9MCBibHVyYXlfY29tcGF0PTAgY29uc3RyYWluZWRfaW50cmE9MCBiZnJhbWVzPTMgYl9weXJh\n",
              "bWlkPTIgYl9hZGFwdD0xIGJfYmlhcz0wIGRpcmVjdD0xIHdlaWdodGI9MSBvcGVuX2dvcD0wIHdl\n",
              "aWdodHA9MiBrZXlpbnQ9MjUwIGtleWludF9taW49MTIgc2NlbmVjdXQ9NDAgaW50cmFfcmVmcmVz\n",
              "aD0wIHJjX2xvb2thaGVhZD00MCByYz1jcmYgbWJ0cmVlPTEgY3JmPTIzLjAgcWNvbXA9MC42MCBx\n",
              "cG1pbj0wIHFwbWF4PTY5IHFwc3RlcD00IGlwX3JhdGlvPTEuNDAgYXE9MToxLjAwAIAAABjgZYiE\n",
              "ABD//veBvzLLXyK6yXH5530srM885DxyXYmuuNAAAAMADN2TX/h8mnsQDT8E/u7TK/2/H7bVlAaK\n",
              "iRdzmyJ3zeLsHMcB9KTPyvPPbMdDZbeXLHYDKYbuUaa87AcAABWTQ2lB2dd+akKOY51SYLP6qx5s\n",
              "8G88s6r+C7A+8pMbjv46g461ZAoPALiDgRtQZzwaXvCX41VV0pkQGmmT8Ag/QLB7HZxjL0TtJta2\n",
              "zNIxRRLaJuKTtUY/2NwZm5xCeVtbp0WwQR/6YOw4DTDcablr/83cAV/iEPHLEB6yhV48Yjzjl8ZR\n",
              "zUByUF0Pzca0j2hkJMlWZd9cj0OgKKqqjRgfFlmTBJcFI5ZlqIyYQCjrlrhVBmSOvtqpuPAVvYDY\n",
              "1U3YboSvlxe3bNryTkP8RUMdki954IDGDFyCgc8EliJW1Y38AOUpQnrKERJiHIEDVVOSmMmUjZhX\n",
              "T17wtDDAVVW/slE/pXX+Ok7SpMCFOjyT9LdVFHwkNWuJFBMW+btk8CDdYHU4e9CmJL5jbB8BNHrF\n",
              "0AQr3IOEamHeBcI58d3ohtDZwsckpNNM8Ru45+3hNgM+mHMDolsqhnb//1i8MLziq73PviIhM0xG\n",
              "OGkq4DpZqlLnU3/NOA1eaoTcOjt+SYiENAxkpM39P8ietRvzJOJDeqSR6ywcjrqbegDkHC9/SJGd\n",
              "ZrFIYtcOYuo2Dgr5E/N25zAL8Fdj4tlIQb6uRbej+wCQeJ92pi3HcIH3RRFpVqeohlwLpBhkxDnQ\n",
              "0i/KOGAam0pCUZbz6PGN5cYfh5jkjzpd/mnsFzena/I7cdltYwBTIqGrQ7uY5N/FRJHNEYcQy58U\n",
              "Dc6ApIpUfqEKwH0Bin0wVkqC6pRRxhan3lyvx0DKePbCTeiR/DN4brzROWvn6LH4UBuyBL8u95kg\n",
              "gRGzh12YMxa7U0h11uzLikMx5v+typSQQvIM2RPUOBa1XWphUFZEoRdzPlrHDzBsl+Nff1kDmU4P\n",
              "WZBArgtEshDY+IA6CyMffeJQ5a5+As0kYYEq5z4GQX/xRPSf/OKWxTiy5i+4jtquGSRsSEVr+85K\n",
              "82SICgyuomCelbyjxkNIfRUgrWqyoqoucpCmfBW7kaVB9yu/rxQe6RQxCboJE1g7i5C8faCmLi2k\n",
              "6499BZx/RZPB5tR7WaN7Wfp7kB2dAGL4fBvBmNbiDeHyoJ58pD8aBOJ1QhY0cWdmIbXENifDcVWI\n",
              "yy9U8hOQxIt9X/lhjxnfERZDxEU9czWb/A2SB9DMcf9beLsUKCOcoI81u9xGrG8zUzhrAQlC55Vq\n",
              "sPEY0hM7liFZCBB8nOmgb06D9FCwm2/6LAQ7n85CLYHlMpN/d1QGL4H7+/XOncnlRJdz1o1htX8i\n",
              "oMBpx69drs7StagHm2mm9qagSmKPp0pn7VSysdpZr7n4jx63kLMvyuQlFlsZUEVIfVI5rdc7xUiv\n",
              "/70bi/oscjp13jm6ZuEEGX3G5KwDI1aWUoVouBGiKyAREvlu/2lnRUNEMHZ4R969P/qKO2CTorcH\n",
              "s1QDoZwOcEJ/ssa37rQS3KfqDW+95yhITALZ/o2uOumDGi5SPJ07OVOGVz1+bbTphT5VGx43TdKV\n",
              "53E4Pz90szenM6qCJ5FW3WxbkkoKIkIe1sAg+k5a+kHpp34YVyDrlusjA/4aSaxxEQI5IFVaVQno\n",
              "LRIWFuOi7sHDwzL7dVeW1lVnhGAiQAQWajG2nw1b0f2oHWSQGixor+Qs+fJjbfOkIh9TbODuWaRi\n",
              "xAw8N4TFcgFPJyPkpE+07KjboXoqw8zRohBjOM6gdu10yZs9LkKf9gAs66XH7ycYPzdYzPR0alVT\n",
              "9lbokXh8HqiGELzN8ltx4mdGLMIufsMgKnWKjYAUlHghQX5QM6hfa5H6cQsXOD+AObxBgUMw318i\n",
              "ZeMaksU7zTDJxOMBTScioe7LWX9JwGcoP1SqD+AFdLcwJCARIZ+IOD/7dmy+IW1ayStMQzeoeNjh\n",
              "/vqKes3UtVSqY+8qkQEk//wNho/Asxy4X/L2GhePf66hQq917pGc1M924ZLCqrp5Dhn4P1UrBipX\n",
              "orrnj13WJm+pmFoOs61ENwDuGHCG1AT1UMP7tOIxz1AWyOL1vpdD7hSWugHGFoSIDT4k+X63QKT5\n",
              "UQBZ2IGSYoDi/hyFbg7BDUtyknf2qyh8Vc/MRuGM1pfyqeiFSNZPt83LPxUpyxqlv/fO/7F11ovT\n",
              "vcBMPRZlNVflZ0ER2r5BA1beK/XFu7L6saw1ZagPyR8lzll+KNxKWzQhOsJhy8p45wHYDCVaKf1d\n",
              "9uW6Uc5yj03HcVOVG2yX1WkjMOsN09D0MhQu6Y+q8KcrgHmXcM4JfWo9sIPl+SRvD43D9o88hGng\n",
              "fsUh+BVOu8UUU6uOgXsb9bq0RmkQ7S/giqo8HIWbH2fMjVqMq2AE0AMIfFIBywrpMLMGbGoB/IcR\n",
              "z3IE9TAw0Ry93V12PMd9DP2wESiN+tGbAkI2bOx+xbh8kK19IrxgdVrkpJRF26Fe6zONwmHe3Idi\n",
              "Z3bPjrssIHWJqiv5H5A/zaZ61MmPPLLzdcrh8+PeexUfl2dE2WTUU7r8gSSQpEJOSkohq5le7BEw\n",
              "snkqQYmPEdMGCcwx2u4svR8qJcgHH7lJu1X3jtz/sezDP0HXyfDO/b+Phiz7gU5Qe1/Lrzyad7RE\n",
              "MaxlSF0m7pNS4RwUa4ti6LsdftgIyGohQHd1v3rUime19crVYLNeFTsjvcTfYNjSLUGQve+ruAfN\n",
              "rbTfrqZJcklHYL+U2/7GNrPNb7jWqHUf7ovuR7CBFGyEiRjnQxDVX3yuAZ9w9PikHYaoRFRBC0sf\n",
              "YDMQFMDl4CC0mlWgEcBWdBBYnL6ijOBHOKlVnJl0bG1izBNtW+tGHSKtdQAu9Qpds74OhpsQEHKr\n",
              "izt4GlnKfGk3jEQzmC/imtGUy8obWLB49eQxi1L81UjHJ1Cf/0NnFLo+Noy8DKu0WFwn3bJz2dgE\n",
              "rQfTqIuDDPHYMHow2jI8B3Rhx1wYuDlioaHtu/imeTBIAJe0/VlgP6Z6n495APlk3/yi5P9dM8c/\n",
              "dG8fcrFIDvR+USR0Ml46cWUmLWK2rnmJ/4Jv/adOf2jtvi9uq9kDo3lnknbk64W3ixmruwp5S2us\n",
              "BTmwp5CBxDSBCipTRpULmw0w3epJOZ6zcnFHM52nGkN0PYlzDcsNy8Lj4znofok2+iEuAWffSLJg\n",
              "tBhtjaaAp7K8fDHL8N4L0hHOIqE/CWaBb/4VDlKQAOWp8PWj0R9faXSTV6/C+Ohr6bI2Hs/7ie1d\n",
              "8fs1gplgrxxY43a29p5RlR4v28Pt5pmA1SWpHfLvgzrUag46jq57Bui7npYp8JFh7Y+MbrDxe6hV\n",
              "B/hJqP9xhTb4fU4htJecm3h39Cr379bx6h58knyZEVyC6du+K1itTMiw9YDrArsz/b2+MYJxGwxB\n",
              "LyoVK8KkuUuPLKdkgY7/c/xvGGU5npACyBXkeD3EGh4i8i64xbjXw9swM8xyi40LN+Un25p7/Ly3\n",
              "zY2YOqbeNf8iJmO6XEZp3/rDcbZOnasYLLpqWW95rcHkO9RAltiElyTX1y+WAme2e94KzzYRPyZK\n",
              "9D9+eWgsJHi/UN6idSQExbbQdEObMfWnNwGNo1eNUNRA6aIcDZijlcnibCSq7fqiWqurEIhAr1z2\n",
              "nWjCzb43usZFWWWh2g9IdpHSZNBeKAKewb0LnV49nuw4cg24h+QsOk7Ajv1sMGVHIDl06zIMz919\n",
              "oxnCL8CBtDsrZQ9Z0EsdxHgmU9Oqw6eFacxVwCHx5zkjkWWev/NgsrIdbUgmnXHGHCyu2p/nRMwS\n",
              "NecU+IyNzj/jm9YpMuak7FPZRyVPGqPTSzf4G/p2PZPWPHHVmZntjjvhBvpz3zFzS887NnIskeTZ\n",
              "LlXbbtDGrMs+dWrsAlzLuiwF4y8N1uOU1McDQO6UPA+7GCGUt5ssfTnssQwzASWw+++xLvq5AUW2\n",
              "rG7ZBVcCwY7Gwuf8JtUrDERuOQ/U/d6hD2iZvB5EumSbZ2xRl/clB+haZNbPCYQ73Vd+hHN3Zeyh\n",
              "bHgqmwaQtg+l+sgXjtw4XVvtuNom3vEevXUwI4jNgGVv9CdR+67jHHgDUb58aBj1k8s+ZXok/PZh\n",
              "4waf9sArvkhT4kTv+/TjeZzHJoYFWqf5tE1iDjRjYf9RZeZiuokQNhTRe/YcK0yYIl43HY4DbrSR\n",
              "i/YKTEUBVjgx7YKkYuA40Lc2JOmdGY/2yh4zpV0Yh+HJKS10GD35r9OkrxHD2bypMifRpuIwYpcS\n",
              "x+25AtXMH11FXmcElD46QFWzIP3HtuitASA+71qTNKqKrgQ1LMFulBTDXTeq7/QZgKzP9kZB9zzu\n",
              "hCv1kWysR7pofoZaMS/CczeK76HlGgEFEGKdGXfT7qB3KzhqCRz5KnznqMtVqKVPOBkg+q8oLbsl\n",
              "X0T9JuEH6qsmMpKISWpSndXppifAGzjEt5QLojJvakuPBuolLCqLgiV+9Vhzw6GBmNCSsuPtrPGv\n",
              "bkLh2ws+pjITx6r52wYsBDcOBBe5Bl35Yere0YcEpdfgV36AWWV/Th7b6sphlgkG9C+VfAb/r56v\n",
              "i17Z4z8TmxM13h49KkWQwsm0e+9q/a2IMxJ8qWUo7v+JgkRFY/kRWppsvznIAQ8OXHE4fyHOif9A\n",
              "kJ7zwX+Czj3aEVAkRYMnUuvXP2J6z+H+vNfV+N+eYXz3ef0jgOSBfa/j0YnYake1SrpmJM6CHiML\n",
              "QAFbCKMX+yhFg4okP+Op5srcg/tONUo1Ka+IlF+zG9LEI39Z0zOBN4rW/oqp6HItGRrpfaVJNqRG\n",
              "m6pDQ9WorIdrVrZozjCkrA/qzUxHs7GfnVTovTGFHH83NjZS4JCn6PmvftW7MbKBj78Vws4pcy79\n",
              "tiTl+z7xQa9s4QnYbi8i29u1apwINCgLtyHCAQLYdKDW5SQ1Xtgd3Ug0DEVp7huqoXmoWfF0wfPl\n",
              "x3erpFMzt4l5A2Zpw2pVhSeCZQjVmO44k1raDWPJpCmc0inE1sjV1fBBQ2wWInmm7f5K7HRlrlb8\n",
              "2TSIlNow+x1o62KDNoHrl+Jkgh+mO0vVWRB2uq5QlyjKzjWMwMApj/SHisHjfg0asfu4EhbDiIV7\n",
              "4vZGr/x0skFLC7Wv9BbyQ1BOYTABQDtcwPUVF366FBqpLLRtuJkxsFkkcF2bGdHW6DMORuYEeVAt\n",
              "5R1usHYccX338Ku7EKVSC17rC5oCaN26cMsrFG29qW5UW2VFroCszDA4BVD2XoCkSwkGHSWgtrDd\n",
              "P2PkPbjLSNswJ3rBeXFFOE0/IowM4IqwksWzh0hmGnT2gWa2b+LRq4MX0Zdqx8ECCXB1asJ3MKI6\n",
              "MDRHn/xBvjRYpyeJSPen8nI4WWZIVYkSybE4Cy5OWl9V8Co2V4Kl3Hra9uU4DeEKGe42aadyf8v/\n",
              "AKakna5T86vJpPIYrKA0ojYgJZgREOC0J0DUjKBlkPMNSGafb2q0IxLahJt8wDZuTwk/ljXnOaKa\n",
              "9lAVaS99P2Q0mr2gUjkF3xQ8xnk2FwSHICrgxwyddB9AIcYx+t2Bl32Br2WvgTL+uXm8wgiqSSnI\n",
              "4Kv8LiwuQ2widtxLzCIzlDi4DQBPTrb6vsxh0BGgU4rd47Qt+ypRSHISQYsGJUjpiax5NMPTTg2X\n",
              "uVhTG3QQmDsNn7jxE0oTOdyC9yNp1DYDlAtoNGLRFG6bSIMioMDARoIQdT1NWbB1xg7jmOh17MQ/\n",
              "bhzW9pqiw++RnYF4BNhdTzQeEIXDAQ1974CrUPGijL1e1tjIpr2ifLJNj7dzWnAQUWwxKZcGnZ3Q\n",
              "1JcUjmbg+Q1qsxwB0JPQGRzGo1FTaMGUy9bCROZ8nwG18NFADlE8CDOylOUh07BO83VSR9GN8xKS\n",
              "CEun0kltlcC7QvCik8l3uRFvcbaErAL+jZy9VAl1Dp9MPfNX8oVBsuiiA2yMLXw9ERDMD58L6B3e\n",
              "A3eTJKh1bYaNav3VUi7zwy9QlVohFoNimdNypEY2nmgW/b3dslqao4raVdXNU1YAMH08P+oPaadz\n",
              "UhjfNxUm/Xf67ZJNY5IgYfWVqjXD2/nKbIMj2gOj0quFhQlxQ0LJegvX86e1o6YMweVwm+YPSoK8\n",
              "eECtsL731ZSZQSnxqoLPHEe5RnO38/eeywqK+Wn/Kc17ovEWVLN32E+t1dFDpt7wJENQB+rH5O0J\n",
              "twnD04Z+8tgywLA0rWU7MjF/qP9wtRTc6O2ZAVQOC+wmhLj0O23AT10DOxAE0QzQNqip0QCMW2qe\n",
              "R9qBAebtniZcTPCSp7Nj4rayDvTd53j0sXaKaD5xJPmXE1Ex2MWlNNFxE0aUl4rSQVNO8dN+aTAn\n",
              "VMRGuE4ZDn+5SbKU7BnWuR0GyTsaMrh+WJy6oThR1K2WymahjUYEQ7SOgyj9uB1x9Q4QATsHQwm9\n",
              "9Q1sE+K/kYu/5l2u12pNWet7UkNw93a/Tu6ksMqDLMrLZHVgZKB7nSfWkr0veMQdKOFaoWKvEtRD\n",
              "halXML1gKxg/uMto4MKfFFKnrikHLMP5l40TrghWI0AMSvqIlMKNUBUZ6zzYU5pu8W/TBc9KJICb\n",
              "/Kh6cZ1B3bp2e4OXS0YHd6eXPRj4A4nPehVXn2Ud3GDMs6wGKmde7pPdbUnTuTYPB6qUCGeM5IY5\n",
              "2kNfcORTkvEwyon9wW+vd5+VY+vNxmcSM4B1uMzUUcPZoBfOFKDCDh4uN4yi3vfhKOs1t/ZO0o/W\n",
              "Z08BLj/fzASPpWsO8QVVcekD+8Rc5yrbn412uun5/2MLe7jql+/qDvMGxhx28opR6T5uJv2u4D+t\n",
              "EobvHUFpCUhnrl16f7iyxknd3GKcV+NkK75YqyFTuU7PulJw0WIX2R50FkBfT/3/s9u8u/5dHENW\n",
              "q9THtL2qignn/vlsO8NHpDAvCQddw2P75PjEmthKkwG+TuQF81cTB0HrAYZXC3uxwT4Ou1zK4Ht2\n",
              "MUk1L/WO17Lr2cPA7khMK4VPGPAm/8Kp2F9Al0pdbL5TzFzcHk6cb18iqWLNunscsKUpju6Lp7AT\n",
              "Xab1f4zn/7Rq4384isF7icV1iHZhL+MLdsGVeVQCH9IHN9p744kL4R9siFBV9lrzpmD5IMaxbUJj\n",
              "2TlYuiwcmWcsPgS/Q2L7w/NlbZ3xSuDn18Asg6O7P/WlU6fcFwlDQn7y7DdXcumjqIfQDI9mlzlb\n",
              "lBsDs2CzMQpYl+UzimGMTa+0bYwNligp7LDUZvMjfFCK/af7ZLYXIeZTPpf/iuSQdg67DQTRmG5P\n",
              "scemmFH9mHPvvfcZ2tXiKLnWUjD//ygmJek+mnT8zm+vAuoSwJe8/I0mqEScK7nSxxqGsJRsIyea\n",
              "s9HTM1abtPm8CRM+1LVX7UuecW6nHjAdIt0aUad27RMQiHUCJiW5NpwQ360rHWtWus5tKb/JSSq6\n",
              "c22lYBfQ/qtadZCvMweqAD5rym4oGbUZ7oOZM0I+r0GC5Jxnr2gY3LvRbuAUV3f+L1zwHa9N0D2N\n",
              "/mMqGDgoMX126IPyVIrD55Mkfc2ZsEVpg2SXqWLwtA1RZIjZ7Z1NrmfFQwwpBMdhHOWlVpD1i053\n",
              "44ObF90uq45iSiIFRyePdfd1wqkztrKnxRv5GWiNg2nFAzXIs0pjVX/ke5zWQcG9lDc1SQmBGc53\n",
              "HiJeuchP1spcYw6fwmikDP5Ov7DLjGHqA1KJJ6MFCoctMbeyOxcCEt8FBgLzA7zmQyzKKmBKyegd\n",
              "hI1LIP7QNnanvMvmimUpLrEYULmuikXdUeKIkKxh4aSQUGsvm82rCLN1jfT7P9dINjw87MwW7fzw\n",
              "CmMYCLnZUAlmCR4gdoltWzOSYwZDbcXuN3KtkO12vf+FCT6Eef4w1GKjLspBoHAx+txeFHylsmZW\n",
              "QyGUOs+74FaXsq7JGpyNrYRDII7EXdIlHSG2hFOWgmZVHEBu2A6GH/q6a8nKRYOCL5QKBWhYiRpA\n",
              "7qma6vDyd9yJmVyai91woKGVCEKCurnmxjxjJdYxRNgD5P00BPJRuv+aY93Fa0MNEFr9Kie9GswK\n",
              "A7DA2FtP1SMZgK8YfmhO+zogmgmzMf2vFl8lP5KBXM9pyvQhdzk4n8ntDrRJYyV+/8Z07CKapQGf\n",
              "1jOopC1lRQ6Gp+fxr/xnAKtcFxJyTtQVSjsSn50uH9dn5t3UhnjdmngWi0ACVCDVKzrShMZDWxbf\n",
              "1MXFcFg9JZxbMUtwL9tVbv8BlbGsAAWV0d4aOboeplulfQIsOs3FZloo8GSlhzD2rEEwdp1LD2db\n",
              "cLUXxK9gCBgub5GnUtLN17Ro/gTpN3jO//6Uqk478lSqk2r62I2y81+A2iuo68bAeOpchnNWEpax\n",
              "XpwF0f8KdcRcmCTjD10rxS1dNhQVTQdwOL0Cwy+/lMZfv/SY1J8ZqdDCSTTtIIUpuF0fTp6ppgmy\n",
              "BllizhqDyFVPPcnx6E3PgXJ+JISY8+BHLERkh1g2Z5bn6L2rVRRy0D/X5Q99c8Ow6I2sdkbeo7DE\n",
              "+2eThZbRoYadj8/nIZqXNj6hnDbACj4zIIQzZS0qDPx/NNaIT8EAAAIGQZokbEEP/qpVAEUZBpAB\n",
              "MR4GqofquYiopPHpDZ1fs2VV/ma7idt3sX8dGIt0CjTJho5zPhRQxpvehRNFrMD2F9TYIkMP+lcR\n",
              "0fKVMEASpCGL6e8ejanG+zONOtx8n1vq0PHexPkhJl6ZyZ7O9WHva5q0r8kKpp40mxjj7kvTYh/I\n",
              "y7HvqyRsxzgAVavExKuDiJH1e9wn2QDc3K3n8z51y8jWtSOjHubA+r5eQeBSFNfvsIob2INKZxLv\n",
              "b2qvXg1AAyorjozahlO7kMN/0c8ZNbViMPB+M/aw51OsEaspLDNoEsHLpQX1pAi4fBiLEBLZD059\n",
              "h2ACukXdxnHD7WrzENeBbqj1SuKxq71hsiX0il5XSYAgxrYIUF7WIBC3bqntseY4/hfSmuG0Z9Xc\n",
              "xOf+L3dXt7WtocAiC7vWPwyjrjhd3n+/RVmsbZb0fR5HrGUVDPaj892u3Hakv5nLSBDq4xgIkCF/\n",
              "JD5yFL79Coh5UhgIbDDJB+LFTmzW/TOo7jOFlT54080umchr50lBSKuRBttG7MH5kKJ8qEk3yT2c\n",
              "TmvGNY9ZOphu1uNYJ3Emi/pH/SgZqLr22FbGSREqlM3b3um8UcilD72mlRSiAvOdDmqMquaylqDY\n",
              "YO6g4AsuEFZZz4y9Ts3HoJbwHTEG3lfWRr8Y2Pbvv1MSHrAT9eO8uZxLhf1OqdIAAACYQZ5CeIb/\n",
              "ADEAHiqTZhLNdlonbK8mDF6UnD5P8dvr6UABL6BxrpMlOfA/1Fkgv6U5yRR6X3+lAoPAmXB3mxJE\n",
              "nJqD7Jf3OcQJuH2JzWie2xH32nQq7lNEVjeIxtoPDUqSRWuZ0zqOuo0hdiAADJ+cdwIbqAG10BeG\n",
              "1pjcXYth9cDcYxVKIgnj2EI8NWyTpuuBRPAKuLZiTjkAAACQAZ5hdEM/AMQKzwYZz/KeDMLgAlq1\n",
              "GILixM6zhmwYEnV2iX4Z8T2AV3I9QIJFZQjqriAD/UKur5xEY7ODyTuiSdkMJq2oH2wmXL/poa2B\n",
              "GmokzpIEmP2EzO/jh+VN0RaASoqyp83IxDikb+JXeevYaSeoxBiGG21QDM2Z11BJlmyr4kd/J5R4\n",
              "Kmk0oi9WBingAAAAQAGeY2pDPwAF0gPSxsOU16RsYyE6l9W4IruFn1k2K4c8Wed3xFRu4X2j7ZsA\n",
              "6Jexu12FQWg7URLGcocwgxgAiIEAAABoQZpoSahBaJlMCCH//qpVAAAOSQAnYiPn7cF02bsIPwGV\n",
              "X9wA530M3540OXDXl1+GLHPvNT86CxF8Oq+9I+upaJQluqTEriw4JBLAuvKevasF034xLLjhKInW\n",
              "LYPiP6AC1eGRUSJZcOEAAAAvQZ6GRREsN/8ABLcjLll4YK0lFMsEJy8hhXqnIMT6kL5ywfgnIg4t\n",
              "WLh5ki6ARUEAAAAiAZ6ldEM/AAXQ8cVVwORY6U85qdaO02InKG2cENFOefEYcQAAABoBnqdqQz8A\n",
              "BdIDj8cK20Y5X8hz13OWgctUrAAAACBBmqxJqEFsmUwIIf/+qlUAAAMBtLQKFn9rvq8Tumt9gAAA\n",
              "ACBBnspFFSw3/wAEtyMuyw54E28/wBPpllInIb73tDYCowAAABoBnul0Qz8ABdDxxVXA5FjleNmc\n",
              "kLCfJ8JqwAAAABYBnutqQz8ABdIDj8cK20Y4KvsA59iAAAAAGEGa8EmoQWyZTAgh//6qVQAAAwG+\n",
              "tAnYtwAAABxBnw5FFSw3/wAEtyMuyw54E28/wA5FXlFL1An5AAAAFQGfLXRDPwAF0PHFVcDkWOCn\n",
              "s6XfBQAAABYBny9qQz8ABdIDj8cK20Y4KvsA59iAAAAAFUGbNEmoQWyZTAgh//6qVQAAAwA9YAAA\n",
              "ABxBn1JFFSw3/wAEtyMuyw54E28/wA5FXlFL1An5AAAAFQGfcXRDPwAF0PHFVcDkWOCns6XfBAAA\n",
              "ABYBn3NqQz8ABdIDj8cK20Y4KvsA59iAAAAAFUGbeEmoQWyZTAgh//6qVQAAAwA9YQAAABxBn5ZF\n",
              "FSw3/wAEtyMuyw54E28/wA5FXlFL1An4AAAAFQGftXRDPwAF0PHFVcDkWOCns6XfBQAAABYBn7dq\n",
              "Qz8ABdIDj8cK20Y4KvsA59iBAAAAFUGbvEmoQWyZTAgh//6qVQAAAwA9YAAAABxBn9pFFSw3/wAE\n",
              "tyMuyw54E28/wA5FXlFL1An5AAAAFQGf+XRDPwAF0PHFVcDkWOCns6XfBAAAABYBn/tqQz8ABdID\n",
              "j8cK20Y4KvsA59iBAAAAFUGb4EmoQWyZTAh///6plgAAAwDwgQAAABxBnh5FFSw3/wAEtyMuyw54\n",
              "E28/wA5FXlFL1An4AAAAFQGePXRDPwAF0PHFVcDkWOCns6XfBAAAABYBnj9qQz8ABdIDj8cK20Y4\n",
              "KvsA59iBAAAAFUGaJEmoQWyZTAh3//6plgAAAwDwgAAAABxBnkJFFSw3/wAEtyMuyw54E28/wA5F\n",
              "XlFL1An5AAAAFQGeYXRDPwAF0PHFVcDkWOCns6XfBAAAABYBnmNqQz8ABdIDj8cK20Y4KvsA59iB\n",
              "AAAAE0GaZ0moQWyZTAhn//6eEAAAB00AAAAcQZ6FRRUsN/8ABLcjLssOeBNvP8AORV5RS9QJ+QAA\n",
              "ABYBnqZqQz8ABdIDj8cK20Y4KvsA59iBAAAFBm1vb3YAAABsbXZoZAAAAAAAAAAAAAAAAAAAA+gA\n",
              "AAyAAAEAAAEAAAAAAAAAAAAAAAABAAAAAAAAAAAAAAAAAAAAAQAAAAAAAAAAAAAAAAAAQAAAAAAA\n",
              "AAAAAAAAAAAAAAAAAAAAAAAAAAAAAAAAAAIAAAQwdHJhawAAAFx0a2hkAAAAAwAAAAAAAAAAAAAA\n",
              "AQAAAAAAAAyAAAAAAAAAAAAAAAAAAAAAAAABAAAAAAAAAAAAAAAAAAAAAQAAAAAAAAAAAAAAAAAA\n",
              "QAAAAAGwAAABIAAAAAAAJGVkdHMAAAAcZWxzdAAAAAAAAAABAAAMgAAACAAAAQAAAAADqG1kaWEA\n",
              "AAAgbWRoZAAAAAAAAAAAAAAAAAAAMgAAAKAAVcQAAAAAAC1oZGxyAAAAAAAAAAB2aWRlAAAAAAAA\n",
              "AAAAAAAAVmlkZW9IYW5kbGVyAAAAA1NtaW5mAAAAFHZtaGQAAAABAAAAAAAAAAAAAAAkZGluZgAA\n",
              "ABxkcmVmAAAAAAAAAAEAAAAMdXJsIAAAAAEAAAMTc3RibAAAALNzdHNkAAAAAAAAAAEAAACjYXZj\n",
              "MQAAAAAAAAABAAAAAAAAAAAAAAAAAAAAAAGwASAASAAAAEgAAAAAAAAAAQAAAAAAAAAAAAAAAAAA\n",
              "AAAAAAAAAAAAAAAAAAAAAAAAABj//wAAADFhdmNDAWQAFf/hABhnZAAVrNlBsJaEAAADAAgAAAMA\n",
              "yDxYtlgBAAZo6+PLIsAAAAAcdXVpZGtoQPJfJE/FujmlG88DI/MAAAAAAAAAGHN0dHMAAAAAAAAA\n",
              "AQAAACgAAAQAAAAAFHN0c3MAAAAAAAAAAQAAAAEAAAFIY3R0cwAAAAAAAAAnAAAAAQAACAAAAAAB\n",
              "AAAUAAAAAAEAAAgAAAAAAQAAAAAAAAABAAAEAAAAAAEAABQAAAAAAQAACAAAAAABAAAAAAAAAAEA\n",
              "AAQAAAAAAQAAFAAAAAABAAAIAAAAAAEAAAAAAAAAAQAABAAAAAABAAAUAAAAAAEAAAgAAAAAAQAA\n",
              "AAAAAAABAAAEAAAAAAEAABQAAAAAAQAACAAAAAABAAAAAAAAAAEAAAQAAAAAAQAAFAAAAAABAAAI\n",
              "AAAAAAEAAAAAAAAAAQAABAAAAAABAAAUAAAAAAEAAAgAAAAAAQAAAAAAAAABAAAEAAAAAAEAABQA\n",
              "AAAAAQAACAAAAAABAAAAAAAAAAEAAAQAAAAAAQAAFAAAAAABAAAIAAAAAAEAAAAAAAAAAQAABAAA\n",
              "AAABAAAQAAAAAAIAAAQAAAAAHHN0c2MAAAAAAAAAAQAAAAEAAAAoAAAAAQAAALRzdHN6AAAAAAAA\n",
              "AAAAAAAoAAAblgAAAgoAAACcAAAAlAAAAEQAAABsAAAAMwAAACYAAAAeAAAAJAAAACQAAAAeAAAA\n",
              "GgAAABwAAAAgAAAAGQAAABoAAAAZAAAAIAAAABkAAAAaAAAAGQAAACAAAAAZAAAAGgAAABkAAAAg\n",
              "AAAAGQAAABoAAAAZAAAAIAAAABkAAAAaAAAAGQAAACAAAAAZAAAAGgAAABcAAAAgAAAAGgAAABRz\n",
              "dGNvAAAAAAAAAAEAAAAsAAAAYnVkdGEAAABabWV0YQAAAAAAAAAhaGRscgAAAAAAAAAAbWRpcmFw\n",
              "cGwAAAAAAAAAAAAAAAAtaWxzdAAAACWpdG9vAAAAHWRhdGEAAAABAAAAAExhdmY1OC4yOS4xMDA=\n",
              "\">\n",
              "  Your browser does not support the video tag.\n",
              "</video>"
            ]
          },
          "metadata": {}
        },
        {
          "output_type": "display_data",
          "data": {
            "text/plain": [
              "<Figure size 432x288 with 1 Axes>"
            ],
            "image/png": "[encoded data removed]"
          },
          "metadata": {
            "needs_background": "light"
          }
        }
      ],
      "source": [
        "fig, ax = plt.subplots()\n",
        "t = np.linspace(0, 3, 40)\n",
        "g = -9.81\n",
        "V0 = 12\n",
        "V02 = 5\n",
        "z1 = height(t, V0, g)\n",
        "z2 = height(t, V02, g)\n",
        "\n",
        "line1 = ax.plot(t, z1, 'r', label='V0=12m/s')[0]\n",
        "line2 = ax.plot(t, z2, 'b*', label='V0=5m/s')[0]\n",
        "ax.set_xlim(0.0, 3.0)\n",
        "ax.set_ylim(-4, 10)\n",
        "ax.set_xlabel('Time[s]')\n",
        "ax.set_ylabel('Z[m]')\n",
        "ax.legend()\n",
        "\n",
        "\n",
        "def update(frame):\n",
        "    line1.set_xdata(t+frame)\n",
        "    line1.set_ydata(height(t+frame, V0, g))\n",
        "    line2.set_xdata(t+frame)\n",
        "    line2.set_ydata(height(t+frame, V02, g))\n",
        "    return (line1, line2)\n",
        "\n",
        "ani = animation.FuncAnimation(fig=fig, func=update, frames=40, interval=80)\n",
        "display(HTML(ani.to_html5_video()))"
      ]
    }
  ],
  "metadata": {
    "kernelspec": {
      "display_name": "Python 3",
      "language": "python",
      "name": "python3"
    },
    "language_info": {
      "codemirror_mode": {
        "name": "ipython",
        "version": 3
      },
      "file_extension": ".py",
      "mimetype": "text/x-python",
      "name": "python",
      "nbconvert_exporter": "python",
      "pygments_lexer": "ipython3",
      "version": "3.11.0"
    },
    "colab": {
      "provenance": [],
      "include_colab_link": true
    }
  },
  "nbformat": 4,
  "nbformat_minor": 0
}